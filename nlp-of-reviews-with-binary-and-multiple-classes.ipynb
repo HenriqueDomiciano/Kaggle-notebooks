{
 "cells": [
  {
   "cell_type": "code",
   "execution_count": 1,
   "id": "6bd9c295",
   "metadata": {
    "_cell_guid": "b1076dfc-b9ad-4769-8c92-a6c4dae69d19",
    "_uuid": "8f2839f25d086af736a60e9eeb907d3b93b6e0e5",
    "execution": {
     "iopub.execute_input": "2021-09-18T09:34:06.599153Z",
     "iopub.status.busy": "2021-09-18T09:34:06.597919Z",
     "iopub.status.idle": "2021-09-18T09:34:08.610450Z",
     "shell.execute_reply": "2021-09-18T09:34:08.609294Z",
     "shell.execute_reply.started": "2021-09-18T09:06:23.312228Z"
    },
    "papermill": {
     "duration": 2.054451,
     "end_time": "2021-09-18T09:34:08.610659",
     "exception": false,
     "start_time": "2021-09-18T09:34:06.556208",
     "status": "completed"
    },
    "tags": []
   },
   "outputs": [],
   "source": [
    "import numpy as np \n",
    "import pandas as pd \n",
    "import matplotlib.pyplot as plt\n",
    "import seaborn as sns \n",
    "import re\n",
    "from wordcloud import WordCloud\n",
    "import nltk\n",
    "from nltk.corpus import stopwords\n",
    "from nltk.tokenize import word_tokenize\n",
    "from nltk.stem import WordNetLemmatizer\n",
    "from sklearn.feature_extraction.text import CountVectorizer\n",
    "from sklearn.feature_extraction.text import TfidfTransformer\n",
    "from sklearn.model_selection import train_test_split\n",
    "from sklearn.metrics import confusion_matrix\n",
    "from sklearn.metrics import plot_confusion_matrix\n",
    "from sklearn.metrics import classification_report\n",
    "from sklearn.ensemble import RandomForestClassifier\n",
    "from sklearn.model_selection import cross_val_score\n",
    "from sklearn.model_selection import cross_val_predict\n",
    "from imblearn.over_sampling import RandomOverSampler"
   ]
  },
  {
   "cell_type": "code",
   "execution_count": 2,
   "id": "135bc951",
   "metadata": {
    "execution": {
     "iopub.execute_input": "2021-09-18T09:34:08.692643Z",
     "iopub.status.busy": "2021-09-18T09:34:08.691954Z",
     "iopub.status.idle": "2021-09-18T09:34:09.406525Z",
     "shell.execute_reply": "2021-09-18T09:34:09.405251Z",
     "shell.execute_reply.started": "2021-09-18T09:06:23.323862Z"
    },
    "papermill": {
     "duration": 0.756741,
     "end_time": "2021-09-18T09:34:09.406723",
     "exception": false,
     "start_time": "2021-09-18T09:34:08.649982",
     "status": "completed"
    },
    "tags": []
   },
   "outputs": [],
   "source": [
    "df = pd.read_csv('../input/brazilian-ecommerce/olist_order_reviews_dataset.csv')\n"
   ]
  },
  {
   "cell_type": "code",
   "execution_count": 3,
   "id": "3b7f430f",
   "metadata": {
    "execution": {
     "iopub.execute_input": "2021-09-18T09:34:09.500502Z",
     "iopub.status.busy": "2021-09-18T09:34:09.499813Z",
     "iopub.status.idle": "2021-09-18T09:34:09.518976Z",
     "shell.execute_reply": "2021-09-18T09:34:09.519515Z",
     "shell.execute_reply.started": "2021-09-18T09:06:23.730649Z"
    },
    "papermill": {
     "duration": 0.075105,
     "end_time": "2021-09-18T09:34:09.519704",
     "exception": false,
     "start_time": "2021-09-18T09:34:09.444599",
     "status": "completed"
    },
    "tags": []
   },
   "outputs": [
    {
     "data": {
      "text/html": [
       "<div>\n",
       "<style scoped>\n",
       "    .dataframe tbody tr th:only-of-type {\n",
       "        vertical-align: middle;\n",
       "    }\n",
       "\n",
       "    .dataframe tbody tr th {\n",
       "        vertical-align: top;\n",
       "    }\n",
       "\n",
       "    .dataframe thead th {\n",
       "        text-align: right;\n",
       "    }\n",
       "</style>\n",
       "<table border=\"1\" class=\"dataframe\">\n",
       "  <thead>\n",
       "    <tr style=\"text-align: right;\">\n",
       "      <th></th>\n",
       "      <th>review_score</th>\n",
       "    </tr>\n",
       "  </thead>\n",
       "  <tbody>\n",
       "    <tr>\n",
       "      <th>count</th>\n",
       "      <td>100000.000000</td>\n",
       "    </tr>\n",
       "    <tr>\n",
       "      <th>mean</th>\n",
       "      <td>4.070890</td>\n",
       "    </tr>\n",
       "    <tr>\n",
       "      <th>std</th>\n",
       "      <td>1.359663</td>\n",
       "    </tr>\n",
       "    <tr>\n",
       "      <th>min</th>\n",
       "      <td>1.000000</td>\n",
       "    </tr>\n",
       "    <tr>\n",
       "      <th>25%</th>\n",
       "      <td>4.000000</td>\n",
       "    </tr>\n",
       "    <tr>\n",
       "      <th>50%</th>\n",
       "      <td>5.000000</td>\n",
       "    </tr>\n",
       "    <tr>\n",
       "      <th>75%</th>\n",
       "      <td>5.000000</td>\n",
       "    </tr>\n",
       "    <tr>\n",
       "      <th>max</th>\n",
       "      <td>5.000000</td>\n",
       "    </tr>\n",
       "  </tbody>\n",
       "</table>\n",
       "</div>"
      ],
      "text/plain": [
       "        review_score\n",
       "count  100000.000000\n",
       "mean        4.070890\n",
       "std         1.359663\n",
       "min         1.000000\n",
       "25%         4.000000\n",
       "50%         5.000000\n",
       "75%         5.000000\n",
       "max         5.000000"
      ]
     },
     "execution_count": 3,
     "metadata": {},
     "output_type": "execute_result"
    }
   ],
   "source": [
    "df.describe()"
   ]
  },
  {
   "cell_type": "code",
   "execution_count": 4,
   "id": "bfcb1937",
   "metadata": {
    "execution": {
     "iopub.execute_input": "2021-09-18T09:34:09.611573Z",
     "iopub.status.busy": "2021-09-18T09:34:09.601936Z",
     "iopub.status.idle": "2021-09-18T09:34:09.615366Z",
     "shell.execute_reply": "2021-09-18T09:34:09.614570Z",
     "shell.execute_reply.started": "2021-09-18T09:06:23.753859Z"
    },
    "papermill": {
     "duration": 0.053841,
     "end_time": "2021-09-18T09:34:09.615520",
     "exception": false,
     "start_time": "2021-09-18T09:34:09.561679",
     "status": "completed"
    },
    "tags": []
   },
   "outputs": [
    {
     "data": {
      "text/html": [
       "<div>\n",
       "<style scoped>\n",
       "    .dataframe tbody tr th:only-of-type {\n",
       "        vertical-align: middle;\n",
       "    }\n",
       "\n",
       "    .dataframe tbody tr th {\n",
       "        vertical-align: top;\n",
       "    }\n",
       "\n",
       "    .dataframe thead th {\n",
       "        text-align: right;\n",
       "    }\n",
       "</style>\n",
       "<table border=\"1\" class=\"dataframe\">\n",
       "  <thead>\n",
       "    <tr style=\"text-align: right;\">\n",
       "      <th></th>\n",
       "      <th>review_id</th>\n",
       "      <th>order_id</th>\n",
       "      <th>review_score</th>\n",
       "      <th>review_comment_title</th>\n",
       "      <th>review_comment_message</th>\n",
       "      <th>review_creation_date</th>\n",
       "      <th>review_answer_timestamp</th>\n",
       "    </tr>\n",
       "  </thead>\n",
       "  <tbody>\n",
       "    <tr>\n",
       "      <th>0</th>\n",
       "      <td>7bc2406110b926393aa56f80a40eba40</td>\n",
       "      <td>73fc7af87114b39712e6da79b0a377eb</td>\n",
       "      <td>4</td>\n",
       "      <td>NaN</td>\n",
       "      <td>NaN</td>\n",
       "      <td>2018-01-18 00:00:00</td>\n",
       "      <td>2018-01-18 21:46:59</td>\n",
       "    </tr>\n",
       "    <tr>\n",
       "      <th>1</th>\n",
       "      <td>80e641a11e56f04c1ad469d5645fdfde</td>\n",
       "      <td>a548910a1c6147796b98fdf73dbeba33</td>\n",
       "      <td>5</td>\n",
       "      <td>NaN</td>\n",
       "      <td>NaN</td>\n",
       "      <td>2018-03-10 00:00:00</td>\n",
       "      <td>2018-03-11 03:05:13</td>\n",
       "    </tr>\n",
       "    <tr>\n",
       "      <th>2</th>\n",
       "      <td>228ce5500dc1d8e020d8d1322874b6f0</td>\n",
       "      <td>f9e4b658b201a9f2ecdecbb34bed034b</td>\n",
       "      <td>5</td>\n",
       "      <td>NaN</td>\n",
       "      <td>NaN</td>\n",
       "      <td>2018-02-17 00:00:00</td>\n",
       "      <td>2018-02-18 14:36:24</td>\n",
       "    </tr>\n",
       "    <tr>\n",
       "      <th>3</th>\n",
       "      <td>e64fb393e7b32834bb789ff8bb30750e</td>\n",
       "      <td>658677c97b385a9be170737859d3511b</td>\n",
       "      <td>5</td>\n",
       "      <td>NaN</td>\n",
       "      <td>Recebi bem antes do prazo estipulado.</td>\n",
       "      <td>2017-04-21 00:00:00</td>\n",
       "      <td>2017-04-21 22:02:06</td>\n",
       "    </tr>\n",
       "    <tr>\n",
       "      <th>4</th>\n",
       "      <td>f7c4243c7fe1938f181bec41a392bdeb</td>\n",
       "      <td>8e6bfb81e283fa7e4f11123a3fb894f1</td>\n",
       "      <td>5</td>\n",
       "      <td>NaN</td>\n",
       "      <td>Parabéns lojas lannister adorei comprar pela I...</td>\n",
       "      <td>2018-03-01 00:00:00</td>\n",
       "      <td>2018-03-02 10:26:53</td>\n",
       "    </tr>\n",
       "  </tbody>\n",
       "</table>\n",
       "</div>"
      ],
      "text/plain": [
       "                          review_id                          order_id  \\\n",
       "0  7bc2406110b926393aa56f80a40eba40  73fc7af87114b39712e6da79b0a377eb   \n",
       "1  80e641a11e56f04c1ad469d5645fdfde  a548910a1c6147796b98fdf73dbeba33   \n",
       "2  228ce5500dc1d8e020d8d1322874b6f0  f9e4b658b201a9f2ecdecbb34bed034b   \n",
       "3  e64fb393e7b32834bb789ff8bb30750e  658677c97b385a9be170737859d3511b   \n",
       "4  f7c4243c7fe1938f181bec41a392bdeb  8e6bfb81e283fa7e4f11123a3fb894f1   \n",
       "\n",
       "   review_score review_comment_title  \\\n",
       "0             4                  NaN   \n",
       "1             5                  NaN   \n",
       "2             5                  NaN   \n",
       "3             5                  NaN   \n",
       "4             5                  NaN   \n",
       "\n",
       "                              review_comment_message review_creation_date  \\\n",
       "0                                                NaN  2018-01-18 00:00:00   \n",
       "1                                                NaN  2018-03-10 00:00:00   \n",
       "2                                                NaN  2018-02-17 00:00:00   \n",
       "3              Recebi bem antes do prazo estipulado.  2017-04-21 00:00:00   \n",
       "4  Parabéns lojas lannister adorei comprar pela I...  2018-03-01 00:00:00   \n",
       "\n",
       "  review_answer_timestamp  \n",
       "0     2018-01-18 21:46:59  \n",
       "1     2018-03-11 03:05:13  \n",
       "2     2018-02-18 14:36:24  \n",
       "3     2017-04-21 22:02:06  \n",
       "4     2018-03-02 10:26:53  "
      ]
     },
     "execution_count": 4,
     "metadata": {},
     "output_type": "execute_result"
    }
   ],
   "source": [
    "df.head()"
   ]
  },
  {
   "cell_type": "code",
   "execution_count": 5,
   "id": "007aad7e",
   "metadata": {
    "execution": {
     "iopub.execute_input": "2021-09-18T09:34:09.701438Z",
     "iopub.status.busy": "2021-09-18T09:34:09.700537Z",
     "iopub.status.idle": "2021-09-18T09:34:09.703961Z",
     "shell.execute_reply": "2021-09-18T09:34:09.704402Z",
     "shell.execute_reply.started": "2021-09-18T09:06:23.770796Z"
    },
    "papermill": {
     "duration": 0.050851,
     "end_time": "2021-09-18T09:34:09.704569",
     "exception": false,
     "start_time": "2021-09-18T09:34:09.653718",
     "status": "completed"
    },
    "tags": []
   },
   "outputs": [
    {
     "data": {
      "text/plain": [
       "0        73fc7af87114b39712e6da79b0a377eb\n",
       "1        a548910a1c6147796b98fdf73dbeba33\n",
       "2        f9e4b658b201a9f2ecdecbb34bed034b\n",
       "3        658677c97b385a9be170737859d3511b\n",
       "4        8e6bfb81e283fa7e4f11123a3fb894f1\n",
       "                       ...               \n",
       "99995    22ec9f0669f784db00fa86d035cf8602\n",
       "99996    55d4004744368f5571d1f590031933e4\n",
       "99997    7725825d039fc1f0ceb7635e3f7d9206\n",
       "99998    f8bd3f2000c28c5342fedeb5e50f2e75\n",
       "99999    90531360ecb1eec2a1fbb265a0db0508\n",
       "Name: order_id, Length: 100000, dtype: object"
      ]
     },
     "execution_count": 5,
     "metadata": {},
     "output_type": "execute_result"
    }
   ],
   "source": [
    "df.pop('review_comment_title')\n",
    "df.pop('review_id')\n",
    "df.pop('order_id')"
   ]
  },
  {
   "cell_type": "code",
   "execution_count": 6,
   "id": "3a52b8ec",
   "metadata": {
    "execution": {
     "iopub.execute_input": "2021-09-18T09:34:09.785128Z",
     "iopub.status.busy": "2021-09-18T09:34:09.784080Z",
     "iopub.status.idle": "2021-09-18T09:34:09.795018Z",
     "shell.execute_reply": "2021-09-18T09:34:09.794383Z",
     "shell.execute_reply.started": "2021-09-18T09:06:23.787298Z"
    },
    "papermill": {
     "duration": 0.052362,
     "end_time": "2021-09-18T09:34:09.795156",
     "exception": false,
     "start_time": "2021-09-18T09:34:09.742794",
     "status": "completed"
    },
    "tags": []
   },
   "outputs": [
    {
     "data": {
      "text/html": [
       "<div>\n",
       "<style scoped>\n",
       "    .dataframe tbody tr th:only-of-type {\n",
       "        vertical-align: middle;\n",
       "    }\n",
       "\n",
       "    .dataframe tbody tr th {\n",
       "        vertical-align: top;\n",
       "    }\n",
       "\n",
       "    .dataframe thead th {\n",
       "        text-align: right;\n",
       "    }\n",
       "</style>\n",
       "<table border=\"1\" class=\"dataframe\">\n",
       "  <thead>\n",
       "    <tr style=\"text-align: right;\">\n",
       "      <th></th>\n",
       "      <th>review_score</th>\n",
       "      <th>review_comment_message</th>\n",
       "      <th>review_creation_date</th>\n",
       "      <th>review_answer_timestamp</th>\n",
       "    </tr>\n",
       "  </thead>\n",
       "  <tbody>\n",
       "    <tr>\n",
       "      <th>0</th>\n",
       "      <td>4</td>\n",
       "      <td>NaN</td>\n",
       "      <td>2018-01-18 00:00:00</td>\n",
       "      <td>2018-01-18 21:46:59</td>\n",
       "    </tr>\n",
       "    <tr>\n",
       "      <th>1</th>\n",
       "      <td>5</td>\n",
       "      <td>NaN</td>\n",
       "      <td>2018-03-10 00:00:00</td>\n",
       "      <td>2018-03-11 03:05:13</td>\n",
       "    </tr>\n",
       "    <tr>\n",
       "      <th>2</th>\n",
       "      <td>5</td>\n",
       "      <td>NaN</td>\n",
       "      <td>2018-02-17 00:00:00</td>\n",
       "      <td>2018-02-18 14:36:24</td>\n",
       "    </tr>\n",
       "    <tr>\n",
       "      <th>3</th>\n",
       "      <td>5</td>\n",
       "      <td>Recebi bem antes do prazo estipulado.</td>\n",
       "      <td>2017-04-21 00:00:00</td>\n",
       "      <td>2017-04-21 22:02:06</td>\n",
       "    </tr>\n",
       "    <tr>\n",
       "      <th>4</th>\n",
       "      <td>5</td>\n",
       "      <td>Parabéns lojas lannister adorei comprar pela I...</td>\n",
       "      <td>2018-03-01 00:00:00</td>\n",
       "      <td>2018-03-02 10:26:53</td>\n",
       "    </tr>\n",
       "  </tbody>\n",
       "</table>\n",
       "</div>"
      ],
      "text/plain": [
       "   review_score                             review_comment_message  \\\n",
       "0             4                                                NaN   \n",
       "1             5                                                NaN   \n",
       "2             5                                                NaN   \n",
       "3             5              Recebi bem antes do prazo estipulado.   \n",
       "4             5  Parabéns lojas lannister adorei comprar pela I...   \n",
       "\n",
       "  review_creation_date review_answer_timestamp  \n",
       "0  2018-01-18 00:00:00     2018-01-18 21:46:59  \n",
       "1  2018-03-10 00:00:00     2018-03-11 03:05:13  \n",
       "2  2018-02-17 00:00:00     2018-02-18 14:36:24  \n",
       "3  2017-04-21 00:00:00     2017-04-21 22:02:06  \n",
       "4  2018-03-01 00:00:00     2018-03-02 10:26:53  "
      ]
     },
     "execution_count": 6,
     "metadata": {},
     "output_type": "execute_result"
    }
   ],
   "source": [
    "df.head()"
   ]
  },
  {
   "cell_type": "code",
   "execution_count": 7,
   "id": "fb257ab5",
   "metadata": {
    "execution": {
     "iopub.execute_input": "2021-09-18T09:34:09.877010Z",
     "iopub.status.busy": "2021-09-18T09:34:09.876271Z",
     "iopub.status.idle": "2021-09-18T09:34:09.891171Z",
     "shell.execute_reply": "2021-09-18T09:34:09.891648Z",
     "shell.execute_reply.started": "2021-09-18T09:06:23.807245Z"
    },
    "papermill": {
     "duration": 0.057572,
     "end_time": "2021-09-18T09:34:09.891828",
     "exception": false,
     "start_time": "2021-09-18T09:34:09.834256",
     "status": "completed"
    },
    "tags": []
   },
   "outputs": [
    {
     "data": {
      "text/html": [
       "<div>\n",
       "<style scoped>\n",
       "    .dataframe tbody tr th:only-of-type {\n",
       "        vertical-align: middle;\n",
       "    }\n",
       "\n",
       "    .dataframe tbody tr th {\n",
       "        vertical-align: top;\n",
       "    }\n",
       "\n",
       "    .dataframe thead th {\n",
       "        text-align: right;\n",
       "    }\n",
       "</style>\n",
       "<table border=\"1\" class=\"dataframe\">\n",
       "  <thead>\n",
       "    <tr style=\"text-align: right;\">\n",
       "      <th></th>\n",
       "      <th>review_score</th>\n",
       "    </tr>\n",
       "  </thead>\n",
       "  <tbody>\n",
       "    <tr>\n",
       "      <th>count</th>\n",
       "      <td>100000.000000</td>\n",
       "    </tr>\n",
       "    <tr>\n",
       "      <th>mean</th>\n",
       "      <td>4.070890</td>\n",
       "    </tr>\n",
       "    <tr>\n",
       "      <th>std</th>\n",
       "      <td>1.359663</td>\n",
       "    </tr>\n",
       "    <tr>\n",
       "      <th>min</th>\n",
       "      <td>1.000000</td>\n",
       "    </tr>\n",
       "    <tr>\n",
       "      <th>25%</th>\n",
       "      <td>4.000000</td>\n",
       "    </tr>\n",
       "    <tr>\n",
       "      <th>50%</th>\n",
       "      <td>5.000000</td>\n",
       "    </tr>\n",
       "    <tr>\n",
       "      <th>75%</th>\n",
       "      <td>5.000000</td>\n",
       "    </tr>\n",
       "    <tr>\n",
       "      <th>max</th>\n",
       "      <td>5.000000</td>\n",
       "    </tr>\n",
       "  </tbody>\n",
       "</table>\n",
       "</div>"
      ],
      "text/plain": [
       "        review_score\n",
       "count  100000.000000\n",
       "mean        4.070890\n",
       "std         1.359663\n",
       "min         1.000000\n",
       "25%         4.000000\n",
       "50%         5.000000\n",
       "75%         5.000000\n",
       "max         5.000000"
      ]
     },
     "execution_count": 7,
     "metadata": {},
     "output_type": "execute_result"
    }
   ],
   "source": [
    "df.describe()"
   ]
  },
  {
   "cell_type": "markdown",
   "id": "0950356e",
   "metadata": {
    "papermill": {
     "duration": 0.03861,
     "end_time": "2021-09-18T09:34:09.969688",
     "exception": false,
     "start_time": "2021-09-18T09:34:09.931078",
     "status": "completed"
    },
    "tags": []
   },
   "source": [
    "# Cleaning the dataset\n",
    "* What we are going to do :\n",
    "    * Remove where there are no comments \n",
    "    * Show how much data did we lost "
   ]
  },
  {
   "cell_type": "code",
   "execution_count": 8,
   "id": "a630710e",
   "metadata": {
    "execution": {
     "iopub.execute_input": "2021-09-18T09:34:10.062570Z",
     "iopub.status.busy": "2021-09-18T09:34:10.051106Z",
     "iopub.status.idle": "2021-09-18T09:34:10.067976Z",
     "shell.execute_reply": "2021-09-18T09:34:10.067148Z",
     "shell.execute_reply.started": "2021-09-18T09:06:23.833825Z"
    },
    "papermill": {
     "duration": 0.058919,
     "end_time": "2021-09-18T09:34:10.068153",
     "exception": false,
     "start_time": "2021-09-18T09:34:10.009234",
     "status": "completed"
    },
    "tags": []
   },
   "outputs": [
    {
     "name": "stdout",
     "output_type": "stream",
     "text": [
      "N of rows without comments : 58247\n",
      "N of rows with comments: 41753\n"
     ]
    }
   ],
   "source": [
    "n_of_r = df['review_comment_message'].isnull().sum()\n",
    "print(f'N of rows without comments : {n_of_r}')\n",
    "print(f'N of rows with comments: {len(df)-n_of_r}')"
   ]
  },
  {
   "cell_type": "code",
   "execution_count": 9,
   "id": "ec0fd328",
   "metadata": {
    "execution": {
     "iopub.execute_input": "2021-09-18T09:34:10.182181Z",
     "iopub.status.busy": "2021-09-18T09:34:10.181454Z",
     "iopub.status.idle": "2021-09-18T09:34:10.191664Z",
     "shell.execute_reply": "2021-09-18T09:34:10.191119Z",
     "shell.execute_reply.started": "2021-09-18T09:06:23.856275Z"
    },
    "papermill": {
     "duration": 0.084324,
     "end_time": "2021-09-18T09:34:10.191811",
     "exception": false,
     "start_time": "2021-09-18T09:34:10.107487",
     "status": "completed"
    },
    "tags": []
   },
   "outputs": [],
   "source": [
    "df =df.dropna() "
   ]
  },
  {
   "cell_type": "code",
   "execution_count": 10,
   "id": "c5797627",
   "metadata": {
    "execution": {
     "iopub.execute_input": "2021-09-18T09:34:10.276035Z",
     "iopub.status.busy": "2021-09-18T09:34:10.275161Z",
     "iopub.status.idle": "2021-09-18T09:34:10.277595Z",
     "shell.execute_reply": "2021-09-18T09:34:10.278059Z",
     "shell.execute_reply.started": "2021-09-18T09:06:23.909810Z"
    },
    "papermill": {
     "duration": 0.047158,
     "end_time": "2021-09-18T09:34:10.278231",
     "exception": false,
     "start_time": "2021-09-18T09:34:10.231073",
     "status": "completed"
    },
    "tags": []
   },
   "outputs": [],
   "source": [
    "y = df.pop('review_score') "
   ]
  },
  {
   "cell_type": "code",
   "execution_count": 11,
   "id": "9a6cfacd",
   "metadata": {
    "execution": {
     "iopub.execute_input": "2021-09-18T09:34:10.371045Z",
     "iopub.status.busy": "2021-09-18T09:34:10.370031Z",
     "iopub.status.idle": "2021-09-18T09:34:10.374435Z",
     "shell.execute_reply": "2021-09-18T09:34:10.373831Z",
     "shell.execute_reply.started": "2021-09-18T09:06:23.917392Z"
    },
    "papermill": {
     "duration": 0.056226,
     "end_time": "2021-09-18T09:34:10.374569",
     "exception": false,
     "start_time": "2021-09-18T09:34:10.318343",
     "status": "completed"
    },
    "tags": []
   },
   "outputs": [
    {
     "data": {
      "text/html": [
       "<div>\n",
       "<style scoped>\n",
       "    .dataframe tbody tr th:only-of-type {\n",
       "        vertical-align: middle;\n",
       "    }\n",
       "\n",
       "    .dataframe tbody tr th {\n",
       "        vertical-align: top;\n",
       "    }\n",
       "\n",
       "    .dataframe thead th {\n",
       "        text-align: right;\n",
       "    }\n",
       "</style>\n",
       "<table border=\"1\" class=\"dataframe\">\n",
       "  <thead>\n",
       "    <tr style=\"text-align: right;\">\n",
       "      <th></th>\n",
       "      <th>review_comment_message</th>\n",
       "      <th>review_creation_date</th>\n",
       "      <th>review_answer_timestamp</th>\n",
       "    </tr>\n",
       "  </thead>\n",
       "  <tbody>\n",
       "    <tr>\n",
       "      <th>3</th>\n",
       "      <td>Recebi bem antes do prazo estipulado.</td>\n",
       "      <td>2017-04-21 00:00:00</td>\n",
       "      <td>2017-04-21 22:02:06</td>\n",
       "    </tr>\n",
       "    <tr>\n",
       "      <th>4</th>\n",
       "      <td>Parabéns lojas lannister adorei comprar pela I...</td>\n",
       "      <td>2018-03-01 00:00:00</td>\n",
       "      <td>2018-03-02 10:26:53</td>\n",
       "    </tr>\n",
       "    <tr>\n",
       "      <th>9</th>\n",
       "      <td>aparelho eficiente. no site a marca do aparelh...</td>\n",
       "      <td>2018-05-22 00:00:00</td>\n",
       "      <td>2018-05-23 16:45:47</td>\n",
       "    </tr>\n",
       "    <tr>\n",
       "      <th>12</th>\n",
       "      <td>Mas um pouco ,travando...pelo valor ta Boa.\\r\\n</td>\n",
       "      <td>2018-02-16 00:00:00</td>\n",
       "      <td>2018-02-20 10:52:22</td>\n",
       "    </tr>\n",
       "    <tr>\n",
       "      <th>15</th>\n",
       "      <td>Vendedor confiável, produto ok e entrega antes...</td>\n",
       "      <td>2018-05-23 00:00:00</td>\n",
       "      <td>2018-05-24 03:00:01</td>\n",
       "    </tr>\n",
       "    <tr>\n",
       "      <th>...</th>\n",
       "      <td>...</td>\n",
       "      <td>...</td>\n",
       "      <td>...</td>\n",
       "    </tr>\n",
       "    <tr>\n",
       "      <th>99983</th>\n",
       "      <td>Entregou dentro do prazo. O produto chegou em ...</td>\n",
       "      <td>2018-02-07 00:00:00</td>\n",
       "      <td>2018-02-19 19:47:23</td>\n",
       "    </tr>\n",
       "    <tr>\n",
       "      <th>99990</th>\n",
       "      <td>O produto não foi enviado com NF, não existe v...</td>\n",
       "      <td>2018-05-19 00:00:00</td>\n",
       "      <td>2018-05-20 21:51:06</td>\n",
       "    </tr>\n",
       "    <tr>\n",
       "      <th>99996</th>\n",
       "      <td>Excelente mochila, entrega super rápida. Super...</td>\n",
       "      <td>2018-03-22 00:00:00</td>\n",
       "      <td>2018-03-23 09:10:43</td>\n",
       "    </tr>\n",
       "    <tr>\n",
       "      <th>99998</th>\n",
       "      <td>Solicitei a compra de uma capa de retrovisor c...</td>\n",
       "      <td>2017-12-15 00:00:00</td>\n",
       "      <td>2017-12-16 01:29:43</td>\n",
       "    </tr>\n",
       "    <tr>\n",
       "      <th>99999</th>\n",
       "      <td>meu produto chegou e ja tenho que devolver, po...</td>\n",
       "      <td>2017-07-03 00:00:00</td>\n",
       "      <td>2017-07-03 21:01:49</td>\n",
       "    </tr>\n",
       "  </tbody>\n",
       "</table>\n",
       "<p>41753 rows × 3 columns</p>\n",
       "</div>"
      ],
      "text/plain": [
       "                                  review_comment_message review_creation_date  \\\n",
       "3                  Recebi bem antes do prazo estipulado.  2017-04-21 00:00:00   \n",
       "4      Parabéns lojas lannister adorei comprar pela I...  2018-03-01 00:00:00   \n",
       "9      aparelho eficiente. no site a marca do aparelh...  2018-05-22 00:00:00   \n",
       "12       Mas um pouco ,travando...pelo valor ta Boa.\\r\\n  2018-02-16 00:00:00   \n",
       "15     Vendedor confiável, produto ok e entrega antes...  2018-05-23 00:00:00   \n",
       "...                                                  ...                  ...   \n",
       "99983  Entregou dentro do prazo. O produto chegou em ...  2018-02-07 00:00:00   \n",
       "99990  O produto não foi enviado com NF, não existe v...  2018-05-19 00:00:00   \n",
       "99996  Excelente mochila, entrega super rápida. Super...  2018-03-22 00:00:00   \n",
       "99998  Solicitei a compra de uma capa de retrovisor c...  2017-12-15 00:00:00   \n",
       "99999  meu produto chegou e ja tenho que devolver, po...  2017-07-03 00:00:00   \n",
       "\n",
       "      review_answer_timestamp  \n",
       "3         2017-04-21 22:02:06  \n",
       "4         2018-03-02 10:26:53  \n",
       "9         2018-05-23 16:45:47  \n",
       "12        2018-02-20 10:52:22  \n",
       "15        2018-05-24 03:00:01  \n",
       "...                       ...  \n",
       "99983     2018-02-19 19:47:23  \n",
       "99990     2018-05-20 21:51:06  \n",
       "99996     2018-03-23 09:10:43  \n",
       "99998     2017-12-16 01:29:43  \n",
       "99999     2017-07-03 21:01:49  \n",
       "\n",
       "[41753 rows x 3 columns]"
      ]
     },
     "execution_count": 11,
     "metadata": {},
     "output_type": "execute_result"
    }
   ],
   "source": [
    "df"
   ]
  },
  {
   "cell_type": "markdown",
   "id": "a3962eaf",
   "metadata": {
    "papermill": {
     "duration": 0.039466,
     "end_time": "2021-09-18T09:34:10.454140",
     "exception": false,
     "start_time": "2021-09-18T09:34:10.414674",
     "status": "completed"
    },
    "tags": []
   },
   "source": [
    "# Distibution of reviews\n",
    "* Does the data is very sparse ? \n",
    "* Is the data concentrated ?\n",
    "\n",
    "* We can see that the data is concentrated around the 5 star review and the 1 star review. \n",
    "* We are going to balance this data"
   ]
  },
  {
   "cell_type": "code",
   "execution_count": 12,
   "id": "ca69a4ce",
   "metadata": {
    "execution": {
     "iopub.execute_input": "2021-09-18T09:34:10.539135Z",
     "iopub.status.busy": "2021-09-18T09:34:10.538418Z",
     "iopub.status.idle": "2021-09-18T09:34:10.860404Z",
     "shell.execute_reply": "2021-09-18T09:34:10.860907Z",
     "shell.execute_reply.started": "2021-09-18T09:06:23.939790Z"
    },
    "papermill": {
     "duration": 0.367203,
     "end_time": "2021-09-18T09:34:10.861086",
     "exception": false,
     "start_time": "2021-09-18T09:34:10.493883",
     "status": "completed"
    },
    "tags": []
   },
   "outputs": [
    {
     "data": {
      "text/plain": [
       "<AxesSubplot:>"
      ]
     },
     "execution_count": 12,
     "metadata": {},
     "output_type": "execute_result"
    },
    {
     "data": {
      "image/png": "[encoded data removed]",
      "text/plain": [
       "<Figure size 432x288 with 1 Axes>"
      ]
     },
     "metadata": {
      "needs_background": "light"
     },
     "output_type": "display_data"
    }
   ],
   "source": [
    "sns.barplot(x = np.unique(y), y = [list(y).count(i) for i in np.unique(y)])"
   ]
  },
  {
   "cell_type": "code",
   "execution_count": 13,
   "id": "df87d1ca",
   "metadata": {
    "execution": {
     "iopub.execute_input": "2021-09-18T09:34:10.949762Z",
     "iopub.status.busy": "2021-09-18T09:34:10.948839Z",
     "iopub.status.idle": "2021-09-18T09:34:11.065310Z",
     "shell.execute_reply": "2021-09-18T09:34:11.064481Z",
     "shell.execute_reply.started": "2021-09-18T09:06:24.284695Z"
    },
    "papermill": {
     "duration": 0.163028,
     "end_time": "2021-09-18T09:34:11.065481",
     "exception": false,
     "start_time": "2021-09-18T09:34:10.902453",
     "status": "completed"
    },
    "tags": []
   },
   "outputs": [
    {
     "name": "stdout",
     "output_type": "stream",
     "text": [
      "The percentage of 1 in the data is 0.21984049050367638 %\n",
      "The percentage of 2 in the data is 0.053385385481282785 %\n",
      "The percentage of 3 in the data is 0.08777812372763634 %\n",
      "The percentage of 4 in the data is 0.14451656168419036 %\n",
      "The percentage of 5 in the data is 0.49447943860321414 %\n"
     ]
    }
   ],
   "source": [
    "for i in np.unique(y):\n",
    "    print(f'The percentage of {i} in the data is {list(y).count(i)/len(df)} %')"
   ]
  },
  {
   "cell_type": "markdown",
   "id": "5256e2a4",
   "metadata": {
    "papermill": {
     "duration": 0.04113,
     "end_time": "2021-09-18T09:34:11.148826",
     "exception": false,
     "start_time": "2021-09-18T09:34:11.107696",
     "status": "completed"
    },
    "tags": []
   },
   "source": [
    "# Pre Processing the text data \n",
    "* What are we going to do ?\n",
    "    * Take the text and remove any kinds of special characters\n",
    "    * Remove portuguese stopwords from the text\n",
    "    * Lemmatize the words\n",
    "    * Show the words inside the dataset with word clouds\n",
    "    * Then we are going to use BagOfWords to create the vectors later we aregoing to use TF-IDF."
   ]
  },
  {
   "cell_type": "code",
   "execution_count": 14,
   "id": "103c73cc",
   "metadata": {
    "execution": {
     "iopub.execute_input": "2021-09-18T09:34:11.237800Z",
     "iopub.status.busy": "2021-09-18T09:34:11.237028Z",
     "iopub.status.idle": "2021-09-18T09:34:11.239853Z",
     "shell.execute_reply": "2021-09-18T09:34:11.239312Z",
     "shell.execute_reply.started": "2021-09-18T09:06:24.404894Z"
    },
    "papermill": {
     "duration": 0.049203,
     "end_time": "2021-09-18T09:34:11.239994",
     "exception": false,
     "start_time": "2021-09-18T09:34:11.190791",
     "status": "completed"
    },
    "tags": []
   },
   "outputs": [],
   "source": [
    "texts = df['review_comment_message']"
   ]
  },
  {
   "cell_type": "code",
   "execution_count": 15,
   "id": "a592da0c",
   "metadata": {
    "execution": {
     "iopub.execute_input": "2021-09-18T09:34:11.335920Z",
     "iopub.status.busy": "2021-09-18T09:34:11.328568Z",
     "iopub.status.idle": "2021-09-18T09:34:11.476689Z",
     "shell.execute_reply": "2021-09-18T09:34:11.475984Z",
     "shell.execute_reply.started": "2021-09-18T09:06:24.418982Z"
    },
    "papermill": {
     "duration": 0.195605,
     "end_time": "2021-09-18T09:34:11.476834",
     "exception": false,
     "start_time": "2021-09-18T09:34:11.281229",
     "status": "completed"
    },
    "tags": []
   },
   "outputs": [
    {
     "name": "stdout",
     "output_type": "stream",
     "text": [
      "[nltk_data] Downloading package stopwords to /usr/share/nltk_data...\n",
      "[nltk_data]   Package stopwords is already up-to-date!\n"
     ]
    }
   ],
   "source": [
    "nltk.download('stopwords')\n",
    "stop_words = stopwords.words('portuguese')"
   ]
  },
  {
   "cell_type": "code",
   "execution_count": 16,
   "id": "5d3b93d4",
   "metadata": {
    "execution": {
     "iopub.execute_input": "2021-09-18T09:34:11.828167Z",
     "iopub.status.busy": "2021-09-18T09:34:11.817899Z",
     "iopub.status.idle": "2021-09-18T09:34:15.982920Z",
     "shell.execute_reply": "2021-09-18T09:34:15.982215Z",
     "shell.execute_reply.started": "2021-09-18T09:06:24.432582Z"
    },
    "papermill": {
     "duration": 4.463765,
     "end_time": "2021-09-18T09:34:15.983085",
     "exception": false,
     "start_time": "2021-09-18T09:34:11.519320",
     "status": "completed"
    },
    "tags": []
   },
   "outputs": [],
   "source": [
    "wordcloud = WordCloud(stopwords=stop_words,\n",
    "                      background_color=\"black\",\n",
    "                      width=1600, height=800).generate(' '.join(texts))"
   ]
  },
  {
   "cell_type": "code",
   "execution_count": 17,
   "id": "fe94387c",
   "metadata": {
    "execution": {
     "iopub.execute_input": "2021-09-18T09:34:16.094558Z",
     "iopub.status.busy": "2021-09-18T09:34:16.093380Z",
     "iopub.status.idle": "2021-09-18T09:34:16.925046Z",
     "shell.execute_reply": "2021-09-18T09:34:16.925543Z",
     "shell.execute_reply.started": "2021-09-18T09:06:29.553499Z"
    },
    "papermill": {
     "duration": 0.899915,
     "end_time": "2021-09-18T09:34:16.925738",
     "exception": false,
     "start_time": "2021-09-18T09:34:16.025823",
     "status": "completed"
    },
    "tags": []
   },
   "outputs": [
    {
     "data": {
      "text/plain": [
       "<matplotlib.image.AxesImage at 0x7f315a150850>"
      ]
     },
     "execution_count": 17,
     "metadata": {},
     "output_type": "execute_result"
    },
    {
     "data": {
      "image/png": "[encoded data removed]",
      "text/plain": [
       "<Figure size 720x432 with 1 Axes>"
      ]
     },
     "metadata": {
      "needs_background": "light"
     },
     "output_type": "display_data"
    }
   ],
   "source": [
    "fig, ax = plt.subplots(figsize=(10,6))\n",
    "ax.imshow(wordcloud, interpolation='bilinear')\n",
    "ax.set_axis_off()\n",
    "\n",
    "plt.imshow(wordcloud)"
   ]
  },
  {
   "cell_type": "code",
   "execution_count": 18,
   "id": "50a537a0",
   "metadata": {
    "execution": {
     "iopub.execute_input": "2021-09-18T09:34:17.029997Z",
     "iopub.status.busy": "2021-09-18T09:34:17.029321Z",
     "iopub.status.idle": "2021-09-18T09:34:17.032136Z",
     "shell.execute_reply": "2021-09-18T09:34:17.031575Z",
     "shell.execute_reply.started": "2021-09-18T09:06:30.408421Z"
    },
    "papermill": {
     "duration": 0.057785,
     "end_time": "2021-09-18T09:34:17.032276",
     "exception": false,
     "start_time": "2021-09-18T09:34:16.974491",
     "status": "completed"
    },
    "tags": []
   },
   "outputs": [],
   "source": [
    "def pre_process_data(text):\n",
    "    lemm = WordNetLemmatizer()\n",
    "    text  = re.sub(r\"[^0-9a-zA-Z]+\",' ',text)\n",
    "    tokenized = word_tokenize(text)\n",
    "    text = [lemm.lemmatize(i.lower()) for i in tokenized if not(i.lower() in stop_words) and i.isalpha()]\n",
    "    return ' '.join(text)"
   ]
  },
  {
   "cell_type": "code",
   "execution_count": 19,
   "id": "a104d761",
   "metadata": {
    "execution": {
     "iopub.execute_input": "2021-09-18T09:34:17.135163Z",
     "iopub.status.busy": "2021-09-18T09:34:17.134410Z",
     "iopub.status.idle": "2021-09-18T09:34:30.202244Z",
     "shell.execute_reply": "2021-09-18T09:34:30.202800Z",
     "shell.execute_reply.started": "2021-09-18T09:06:30.416296Z"
    },
    "papermill": {
     "duration": 13.122038,
     "end_time": "2021-09-18T09:34:30.203023",
     "exception": false,
     "start_time": "2021-09-18T09:34:17.080985",
     "status": "completed"
    },
    "tags": []
   },
   "outputs": [],
   "source": [
    "texts = [pre_process_data(i) for i in texts]"
   ]
  },
  {
   "cell_type": "code",
   "execution_count": 20,
   "id": "4d7c5dbb",
   "metadata": {
    "execution": {
     "iopub.execute_input": "2021-09-18T09:34:30.304154Z",
     "iopub.status.busy": "2021-09-18T09:34:30.303420Z",
     "iopub.status.idle": "2021-09-18T09:34:30.913377Z",
     "shell.execute_reply": "2021-09-18T09:34:30.912793Z",
     "shell.execute_reply.started": "2021-09-18T09:06:41.738844Z"
    },
    "papermill": {
     "duration": 0.661296,
     "end_time": "2021-09-18T09:34:30.913526",
     "exception": false,
     "start_time": "2021-09-18T09:34:30.252230",
     "status": "completed"
    },
    "tags": []
   },
   "outputs": [],
   "source": [
    "vectorizer = CountVectorizer(max_features=10000)\n",
    "vectorizer2 = TfidfTransformer()\n",
    "x = vectorizer.fit_transform(texts)\n",
    "x = vectorizer2.fit_transform(x,y)"
   ]
  },
  {
   "cell_type": "markdown",
   "id": "c753b206",
   "metadata": {
    "papermill": {
     "duration": 0.049168,
     "end_time": "2021-09-18T09:34:31.011749",
     "exception": false,
     "start_time": "2021-09-18T09:34:30.962581",
     "status": "completed"
    },
    "tags": []
   },
   "source": [
    "# Building the model without oversampling "
   ]
  },
  {
   "cell_type": "code",
   "execution_count": 21,
   "id": "dd9fa274",
   "metadata": {
    "execution": {
     "iopub.execute_input": "2021-09-18T09:34:31.119230Z",
     "iopub.status.busy": "2021-09-18T09:34:31.118329Z",
     "iopub.status.idle": "2021-09-18T09:34:31.131434Z",
     "shell.execute_reply": "2021-09-18T09:34:31.132051Z",
     "shell.execute_reply.started": "2021-09-18T09:06:42.372650Z"
    },
    "papermill": {
     "duration": 0.07126,
     "end_time": "2021-09-18T09:34:31.132232",
     "exception": false,
     "start_time": "2021-09-18T09:34:31.060972",
     "status": "completed"
    },
    "tags": []
   },
   "outputs": [],
   "source": [
    "x_train,x_test,y_train,y_test = train_test_split(x,y)\n",
    "rf_model = RandomForestClassifier(n_jobs=5,verbose=1)"
   ]
  },
  {
   "cell_type": "code",
   "execution_count": 22,
   "id": "14a9f46c",
   "metadata": {
    "execution": {
     "iopub.execute_input": "2021-09-18T09:34:31.249133Z",
     "iopub.status.busy": "2021-09-18T09:34:31.248085Z",
     "iopub.status.idle": "2021-09-18T09:38:07.316378Z",
     "shell.execute_reply": "2021-09-18T09:38:07.315739Z",
     "shell.execute_reply.started": "2021-09-18T09:06:42.390909Z"
    },
    "papermill": {
     "duration": 216.129666,
     "end_time": "2021-09-18T09:38:07.316525",
     "exception": false,
     "start_time": "2021-09-18T09:34:31.186859",
     "status": "completed"
    },
    "tags": []
   },
   "outputs": [
    {
     "name": "stderr",
     "output_type": "stream",
     "text": [
      "[Parallel(n_jobs=5)]: Using backend LokyBackend with 5 concurrent workers.\n",
      "[Parallel(n_jobs=5)]: Done  40 tasks      | elapsed:   20.1s\n",
      "[Parallel(n_jobs=5)]: Done 100 out of 100 | elapsed:   45.3s finished\n",
      "[Parallel(n_jobs=5)]: Using backend ThreadingBackend with 5 concurrent workers.\n",
      "[Parallel(n_jobs=5)]: Done  40 tasks      | elapsed:    0.1s\n",
      "[Parallel(n_jobs=5)]: Done 100 out of 100 | elapsed:    0.3s finished\n",
      "[Parallel(n_jobs=5)]: Using backend LokyBackend with 5 concurrent workers.\n",
      "[Parallel(n_jobs=5)]: Done  40 tasks      | elapsed:   17.3s\n",
      "[Parallel(n_jobs=5)]: Done 100 out of 100 | elapsed:   41.9s finished\n",
      "[Parallel(n_jobs=5)]: Using backend ThreadingBackend with 5 concurrent workers.\n",
      "[Parallel(n_jobs=5)]: Done  40 tasks      | elapsed:    0.1s\n",
      "[Parallel(n_jobs=5)]: Done 100 out of 100 | elapsed:    0.2s finished\n",
      "[Parallel(n_jobs=5)]: Using backend LokyBackend with 5 concurrent workers.\n",
      "[Parallel(n_jobs=5)]: Done  40 tasks      | elapsed:   17.7s\n",
      "[Parallel(n_jobs=5)]: Done 100 out of 100 | elapsed:   42.4s finished\n",
      "[Parallel(n_jobs=5)]: Using backend ThreadingBackend with 5 concurrent workers.\n",
      "[Parallel(n_jobs=5)]: Done  40 tasks      | elapsed:    0.1s\n",
      "[Parallel(n_jobs=5)]: Done 100 out of 100 | elapsed:    0.2s finished\n",
      "[Parallel(n_jobs=5)]: Using backend LokyBackend with 5 concurrent workers.\n",
      "[Parallel(n_jobs=5)]: Done  40 tasks      | elapsed:   18.2s\n",
      "[Parallel(n_jobs=5)]: Done 100 out of 100 | elapsed:   42.6s finished\n",
      "[Parallel(n_jobs=5)]: Using backend ThreadingBackend with 5 concurrent workers.\n",
      "[Parallel(n_jobs=5)]: Done  40 tasks      | elapsed:    0.1s\n",
      "[Parallel(n_jobs=5)]: Done 100 out of 100 | elapsed:    0.2s finished\n",
      "[Parallel(n_jobs=5)]: Using backend LokyBackend with 5 concurrent workers.\n",
      "[Parallel(n_jobs=5)]: Done  40 tasks      | elapsed:   17.5s\n",
      "[Parallel(n_jobs=5)]: Done 100 out of 100 | elapsed:   41.9s finished\n",
      "[Parallel(n_jobs=5)]: Using backend ThreadingBackend with 5 concurrent workers.\n",
      "[Parallel(n_jobs=5)]: Done  40 tasks      | elapsed:    0.1s\n",
      "[Parallel(n_jobs=5)]: Done 100 out of 100 | elapsed:    0.2s finished\n"
     ]
    }
   ],
   "source": [
    "scores_nos = cross_val_score(rf_model,x,y)"
   ]
  },
  {
   "cell_type": "code",
   "execution_count": 23,
   "id": "d868bd7e",
   "metadata": {
    "execution": {
     "iopub.execute_input": "2021-09-18T09:38:07.432166Z",
     "iopub.status.busy": "2021-09-18T09:38:07.431369Z",
     "iopub.status.idle": "2021-09-18T09:38:07.435011Z",
     "shell.execute_reply": "2021-09-18T09:38:07.434385Z",
     "shell.execute_reply.started": "2021-09-18T09:10:32.710915Z"
    },
    "papermill": {
     "duration": 0.063439,
     "end_time": "2021-09-18T09:38:07.435148",
     "exception": false,
     "start_time": "2021-09-18T09:38:07.371709",
     "status": "completed"
    },
    "tags": []
   },
   "outputs": [
    {
     "name": "stdout",
     "output_type": "stream",
     "text": [
      "The Average score for not oversampled data is 0.6649341403410399\n"
     ]
    }
   ],
   "source": [
    "print(f'The Average score for not oversampled data is {scores_nos.mean()}')"
   ]
  },
  {
   "cell_type": "code",
   "execution_count": 24,
   "id": "2b7daa20",
   "metadata": {
    "execution": {
     "iopub.execute_input": "2021-09-18T09:38:07.547936Z",
     "iopub.status.busy": "2021-09-18T09:38:07.547237Z",
     "iopub.status.idle": "2021-09-18T09:38:45.774033Z",
     "shell.execute_reply": "2021-09-18T09:38:45.773491Z",
     "shell.execute_reply.started": "2021-09-18T09:10:32.722779Z"
    },
    "papermill": {
     "duration": 38.285129,
     "end_time": "2021-09-18T09:38:45.774182",
     "exception": false,
     "start_time": "2021-09-18T09:38:07.489053",
     "status": "completed"
    },
    "tags": []
   },
   "outputs": [
    {
     "name": "stderr",
     "output_type": "stream",
     "text": [
      "[Parallel(n_jobs=5)]: Using backend ThreadingBackend with 5 concurrent workers.\n",
      "[Parallel(n_jobs=5)]: Done  40 tasks      | elapsed:   16.0s\n",
      "[Parallel(n_jobs=5)]: Done 100 out of 100 | elapsed:   38.0s finished\n"
     ]
    },
    {
     "data": {
      "text/plain": [
       "RandomForestClassifier(n_jobs=5, verbose=1)"
      ]
     },
     "execution_count": 24,
     "metadata": {},
     "output_type": "execute_result"
    }
   ],
   "source": [
    "rf_model.fit(x_train,y_train)"
   ]
  },
  {
   "cell_type": "code",
   "execution_count": 25,
   "id": "35638aeb",
   "metadata": {
    "execution": {
     "iopub.execute_input": "2021-09-18T09:38:45.886781Z",
     "iopub.status.busy": "2021-09-18T09:38:45.886139Z",
     "iopub.status.idle": "2021-09-18T09:38:46.221331Z",
     "shell.execute_reply": "2021-09-18T09:38:46.220749Z",
     "shell.execute_reply.started": "2021-09-18T09:11:12.226329Z"
    },
    "papermill": {
     "duration": 0.392614,
     "end_time": "2021-09-18T09:38:46.221478",
     "exception": false,
     "start_time": "2021-09-18T09:38:45.828864",
     "status": "completed"
    },
    "tags": []
   },
   "outputs": [
    {
     "name": "stderr",
     "output_type": "stream",
     "text": [
      "[Parallel(n_jobs=5)]: Using backend ThreadingBackend with 5 concurrent workers.\n",
      "[Parallel(n_jobs=5)]: Done  40 tasks      | elapsed:    0.1s\n"
     ]
    },
    {
     "name": "stdout",
     "output_type": "stream",
     "text": [
      "              precision    recall  f1-score   support\n",
      "\n",
      "           1       0.61      0.89      0.72      2297\n",
      "           2       0.45      0.05      0.09       549\n",
      "           3       0.34      0.06      0.10       927\n",
      "           4       0.34      0.07      0.12      1507\n",
      "           5       0.73      0.92      0.81      5159\n",
      "\n",
      "    accuracy                           0.67     10439\n",
      "   macro avg       0.49      0.40      0.37     10439\n",
      "weighted avg       0.59      0.67      0.59     10439\n",
      "\n"
     ]
    },
    {
     "name": "stderr",
     "output_type": "stream",
     "text": [
      "[Parallel(n_jobs=5)]: Done 100 out of 100 | elapsed:    0.3s finished\n"
     ]
    }
   ],
   "source": [
    "y_pred = rf_model.predict(x_test)\n",
    "print(classification_report(y_test,y_pred))"
   ]
  },
  {
   "cell_type": "code",
   "execution_count": 26,
   "id": "fd2c64d5",
   "metadata": {
    "execution": {
     "iopub.execute_input": "2021-09-18T09:38:46.338892Z",
     "iopub.status.busy": "2021-09-18T09:38:46.338070Z",
     "iopub.status.idle": "2021-09-18T09:38:47.009507Z",
     "shell.execute_reply": "2021-09-18T09:38:47.010082Z",
     "shell.execute_reply.started": "2021-09-18T09:11:12.667501Z"
    },
    "papermill": {
     "duration": 0.73292,
     "end_time": "2021-09-18T09:38:47.010265",
     "exception": false,
     "start_time": "2021-09-18T09:38:46.277345",
     "status": "completed"
    },
    "tags": []
   },
   "outputs": [
    {
     "name": "stderr",
     "output_type": "stream",
     "text": [
      "[Parallel(n_jobs=5)]: Using backend ThreadingBackend with 5 concurrent workers.\n",
      "[Parallel(n_jobs=5)]: Done  40 tasks      | elapsed:    0.1s\n",
      "[Parallel(n_jobs=5)]: Done 100 out of 100 | elapsed:    0.3s finished\n"
     ]
    },
    {
     "data": {
      "text/plain": [
       "<sklearn.metrics._plot.confusion_matrix.ConfusionMatrixDisplay at 0x7f3149a59910>"
      ]
     },
     "execution_count": 26,
     "metadata": {},
     "output_type": "execute_result"
    },
    {
     "data": {
      "image/png": "[encoded data removed]",
      "text/plain": [
       "<Figure size 432x288 with 2 Axes>"
      ]
     },
     "metadata": {
      "needs_background": "light"
     },
     "output_type": "display_data"
    }
   ],
   "source": [
    "plot_confusion_matrix(rf_model,x_test,y_test)"
   ]
  },
  {
   "cell_type": "markdown",
   "id": "f3e01c6e",
   "metadata": {
    "papermill": {
     "duration": 0.057456,
     "end_time": "2021-09-18T09:38:47.126206",
     "exception": false,
     "start_time": "2021-09-18T09:38:47.068750",
     "status": "completed"
    },
    "tags": []
   },
   "source": [
    "# Oversampling\n",
    "\n",
    "We will oversample the data so wich class can have the same amount of vectors as the biggest class this happens mainly because the 5 class. "
   ]
  },
  {
   "cell_type": "code",
   "execution_count": 27,
   "id": "2e8a9682",
   "metadata": {
    "execution": {
     "iopub.execute_input": "2021-09-18T09:38:47.247015Z",
     "iopub.status.busy": "2021-09-18T09:38:47.246016Z",
     "iopub.status.idle": "2021-09-18T09:38:47.299020Z",
     "shell.execute_reply": "2021-09-18T09:38:47.299483Z",
     "shell.execute_reply.started": "2021-09-18T09:11:13.444601Z"
    },
    "papermill": {
     "duration": 0.115026,
     "end_time": "2021-09-18T09:38:47.299696",
     "exception": false,
     "start_time": "2021-09-18T09:38:47.184670",
     "status": "completed"
    },
    "tags": []
   },
   "outputs": [],
   "source": [
    "ro = RandomOverSampler()\n",
    "x_ros, y_ros = ro.fit_resample(x, y)\n",
    "x_train,x_test,y_train,y_test = train_test_split(x_ros,y_ros)"
   ]
  },
  {
   "cell_type": "code",
   "execution_count": 28,
   "id": "44227bff",
   "metadata": {
    "execution": {
     "iopub.execute_input": "2021-09-18T09:38:47.421961Z",
     "iopub.status.busy": "2021-09-18T09:38:47.419861Z",
     "iopub.status.idle": "2021-09-18T09:38:47.867402Z",
     "shell.execute_reply": "2021-09-18T09:38:47.866897Z",
     "shell.execute_reply.started": "2021-09-18T09:11:13.542740Z"
    },
    "papermill": {
     "duration": 0.509974,
     "end_time": "2021-09-18T09:38:47.867545",
     "exception": false,
     "start_time": "2021-09-18T09:38:47.357571",
     "status": "completed"
    },
    "tags": []
   },
   "outputs": [
    {
     "data": {
      "text/plain": [
       "<AxesSubplot:>"
      ]
     },
     "execution_count": 28,
     "metadata": {},
     "output_type": "execute_result"
    },
    {
     "data": {
      "image/png": "[encoded data removed]",
      "text/plain": [
       "<Figure size 432x288 with 1 Axes>"
      ]
     },
     "metadata": {
      "needs_background": "light"
     },
     "output_type": "display_data"
    }
   ],
   "source": [
    "sns.barplot(x = np.unique(y), y = [list(y_ros).count(i) for i in np.unique(y)])"
   ]
  },
  {
   "cell_type": "code",
   "execution_count": 29,
   "id": "267c532e",
   "metadata": {
    "execution": {
     "iopub.execute_input": "2021-09-18T09:38:47.990584Z",
     "iopub.status.busy": "2021-09-18T09:38:47.989975Z",
     "iopub.status.idle": "2021-09-18T09:47:27.966561Z",
     "shell.execute_reply": "2021-09-18T09:47:27.966047Z",
     "shell.execute_reply.started": "2021-09-18T09:11:14.051034Z"
    },
    "papermill": {
     "duration": 520.040367,
     "end_time": "2021-09-18T09:47:27.966729",
     "exception": false,
     "start_time": "2021-09-18T09:38:47.926362",
     "status": "completed"
    },
    "tags": []
   },
   "outputs": [
    {
     "name": "stderr",
     "output_type": "stream",
     "text": [
      "[Parallel(n_jobs=5)]: Using backend LokyBackend with 5 concurrent workers.\n",
      "[Parallel(n_jobs=5)]: Done  40 tasks      | elapsed:   42.9s\n",
      "[Parallel(n_jobs=5)]: Done 100 out of 100 | elapsed:  1.7min finished\n",
      "[Parallel(n_jobs=5)]: Using backend ThreadingBackend with 5 concurrent workers.\n",
      "[Parallel(n_jobs=5)]: Done  40 tasks      | elapsed:    0.2s\n",
      "[Parallel(n_jobs=5)]: Done 100 out of 100 | elapsed:    0.5s finished\n",
      "[Parallel(n_jobs=5)]: Using backend LokyBackend with 5 concurrent workers.\n",
      "[Parallel(n_jobs=5)]: Done  40 tasks      | elapsed:   41.8s\n",
      "[Parallel(n_jobs=5)]: Done 100 out of 100 | elapsed:  1.7min finished\n",
      "[Parallel(n_jobs=5)]: Using backend ThreadingBackend with 5 concurrent workers.\n",
      "[Parallel(n_jobs=5)]: Done  40 tasks      | elapsed:    0.2s\n",
      "[Parallel(n_jobs=5)]: Done 100 out of 100 | elapsed:    0.5s finished\n",
      "[Parallel(n_jobs=5)]: Using backend LokyBackend with 5 concurrent workers.\n",
      "[Parallel(n_jobs=5)]: Done  40 tasks      | elapsed:   42.8s\n",
      "[Parallel(n_jobs=5)]: Done 100 out of 100 | elapsed:  1.7min finished\n",
      "[Parallel(n_jobs=5)]: Using backend ThreadingBackend with 5 concurrent workers.\n",
      "[Parallel(n_jobs=5)]: Done  40 tasks      | elapsed:    0.2s\n",
      "[Parallel(n_jobs=5)]: Done 100 out of 100 | elapsed:    0.5s finished\n",
      "[Parallel(n_jobs=5)]: Using backend LokyBackend with 5 concurrent workers.\n",
      "[Parallel(n_jobs=5)]: Done  40 tasks      | elapsed:   41.7s\n",
      "[Parallel(n_jobs=5)]: Done 100 out of 100 | elapsed:  1.7min finished\n",
      "[Parallel(n_jobs=5)]: Using backend ThreadingBackend with 5 concurrent workers.\n",
      "[Parallel(n_jobs=5)]: Done  40 tasks      | elapsed:    0.2s\n",
      "[Parallel(n_jobs=5)]: Done 100 out of 100 | elapsed:    0.5s finished\n",
      "[Parallel(n_jobs=5)]: Using backend LokyBackend with 5 concurrent workers.\n",
      "[Parallel(n_jobs=5)]: Done  40 tasks      | elapsed:   42.2s\n",
      "[Parallel(n_jobs=5)]: Done 100 out of 100 | elapsed:  1.7min finished\n",
      "[Parallel(n_jobs=5)]: Using backend ThreadingBackend with 5 concurrent workers.\n",
      "[Parallel(n_jobs=5)]: Done  40 tasks      | elapsed:    0.2s\n",
      "[Parallel(n_jobs=5)]: Done 100 out of 100 | elapsed:    0.5s finished\n"
     ]
    }
   ],
   "source": [
    "rf_model = RandomForestClassifier(verbose = 1,n_jobs=5)\n",
    "score = cross_val_score(rf_model,x_ros,y_ros,cv=5)"
   ]
  },
  {
   "cell_type": "code",
   "execution_count": 30,
   "id": "55e43ba5",
   "metadata": {
    "execution": {
     "iopub.execute_input": "2021-09-18T09:47:28.104446Z",
     "iopub.status.busy": "2021-09-18T09:47:28.103452Z",
     "iopub.status.idle": "2021-09-18T09:47:28.106745Z",
     "shell.execute_reply": "2021-09-18T09:47:28.107233Z",
     "shell.execute_reply.started": "2021-09-18T09:20:42.592838Z"
    },
    "papermill": {
     "duration": 0.074851,
     "end_time": "2021-09-18T09:47:28.107395",
     "exception": false,
     "start_time": "2021-09-18T09:47:28.032544",
     "status": "completed"
    },
    "tags": []
   },
   "outputs": [
    {
     "name": "stdout",
     "output_type": "stream",
     "text": [
      "The mean score was: 0.8890826310181149\n"
     ]
    }
   ],
   "source": [
    "print(f'The mean score was: {score.mean()}')"
   ]
  },
  {
   "cell_type": "code",
   "execution_count": 31,
   "id": "aa3d791a",
   "metadata": {
    "execution": {
     "iopub.execute_input": "2021-09-18T09:47:28.245667Z",
     "iopub.status.busy": "2021-09-18T09:47:28.244761Z",
     "iopub.status.idle": "2021-09-18T09:49:07.792311Z",
     "shell.execute_reply": "2021-09-18T09:49:07.791750Z",
     "shell.execute_reply.started": "2021-09-18T09:20:42.602303Z"
    },
    "papermill": {
     "duration": 99.618887,
     "end_time": "2021-09-18T09:49:07.792468",
     "exception": false,
     "start_time": "2021-09-18T09:47:28.173581",
     "status": "completed"
    },
    "tags": []
   },
   "outputs": [
    {
     "name": "stderr",
     "output_type": "stream",
     "text": [
      "[Parallel(n_jobs=5)]: Using backend ThreadingBackend with 5 concurrent workers.\n",
      "[Parallel(n_jobs=5)]: Done  40 tasks      | elapsed:   41.2s\n",
      "[Parallel(n_jobs=5)]: Done 100 out of 100 | elapsed:  1.6min finished\n",
      "[Parallel(n_jobs=5)]: Using backend ThreadingBackend with 5 concurrent workers.\n",
      "[Parallel(n_jobs=5)]: Done  40 tasks      | elapsed:    0.3s\n",
      "[Parallel(n_jobs=5)]: Done 100 out of 100 | elapsed:    0.7s finished\n"
     ]
    }
   ],
   "source": [
    "rf_model.fit(x_train,y_train)\n",
    "y_pred = rf_model.predict(x_test)"
   ]
  },
  {
   "cell_type": "code",
   "execution_count": 32,
   "id": "7234b0a9",
   "metadata": {
    "execution": {
     "iopub.execute_input": "2021-09-18T09:49:07.934192Z",
     "iopub.status.busy": "2021-09-18T09:49:07.933480Z",
     "iopub.status.idle": "2021-09-18T09:49:07.984283Z",
     "shell.execute_reply": "2021-09-18T09:49:07.984962Z",
     "shell.execute_reply.started": "2021-09-18T09:22:25.621415Z"
    },
    "papermill": {
     "duration": 0.123959,
     "end_time": "2021-09-18T09:49:07.985203",
     "exception": false,
     "start_time": "2021-09-18T09:49:07.861244",
     "status": "completed"
    },
    "tags": []
   },
   "outputs": [
    {
     "name": "stdout",
     "output_type": "stream",
     "text": [
      "              precision    recall  f1-score   support\n",
      "\n",
      "           1       0.91      0.94      0.92      5190\n",
      "           2       0.95      0.96      0.96      5092\n",
      "           3       0.94      0.88      0.90      5229\n",
      "           4       0.77      0.85      0.81      5190\n",
      "           5       0.84      0.77      0.80      5107\n",
      "\n",
      "    accuracy                           0.88     25808\n",
      "   macro avg       0.88      0.88      0.88     25808\n",
      "weighted avg       0.88      0.88      0.88     25808\n",
      "\n"
     ]
    }
   ],
   "source": [
    "print(classification_report(y_test,y_pred))"
   ]
  },
  {
   "cell_type": "code",
   "execution_count": 33,
   "id": "5e70ea15",
   "metadata": {
    "execution": {
     "iopub.execute_input": "2021-09-18T09:49:08.128351Z",
     "iopub.status.busy": "2021-09-18T09:49:08.127530Z",
     "iopub.status.idle": "2021-09-18T09:49:09.167966Z",
     "shell.execute_reply": "2021-09-18T09:49:09.168436Z",
     "shell.execute_reply.started": "2021-09-18T09:22:25.680278Z"
    },
    "papermill": {
     "duration": 1.114468,
     "end_time": "2021-09-18T09:49:09.168616",
     "exception": false,
     "start_time": "2021-09-18T09:49:08.054148",
     "status": "completed"
    },
    "tags": []
   },
   "outputs": [
    {
     "name": "stderr",
     "output_type": "stream",
     "text": [
      "[Parallel(n_jobs=5)]: Using backend ThreadingBackend with 5 concurrent workers.\n",
      "[Parallel(n_jobs=5)]: Done  40 tasks      | elapsed:    0.3s\n",
      "[Parallel(n_jobs=5)]: Done 100 out of 100 | elapsed:    0.6s finished\n"
     ]
    },
    {
     "data": {
      "text/plain": [
       "<sklearn.metrics._plot.confusion_matrix.ConfusionMatrixDisplay at 0x7f3149a60c10>"
      ]
     },
     "execution_count": 33,
     "metadata": {},
     "output_type": "execute_result"
    },
    {
     "data": {
      "image/png": "[encoded data removed]",
      "text/plain": [
       "<Figure size 432x288 with 2 Axes>"
      ]
     },
     "metadata": {
      "needs_background": "light"
     },
     "output_type": "display_data"
    }
   ],
   "source": [
    "plot_confusion_matrix(rf_model,x_test,y_test)"
   ]
  },
  {
   "cell_type": "markdown",
   "id": "ef5a0831",
   "metadata": {
    "papermill": {
     "duration": 0.071031,
     "end_time": "2021-09-18T09:49:09.309791",
     "exception": false,
     "start_time": "2021-09-18T09:49:09.238760",
     "status": "completed"
    },
    "tags": []
   },
   "source": [
    "# Conclusion 1 \n",
    "* Is this result what we expected?\n",
    "    * Really this result brings suspicious thoughts about the quality of the model oversampled mainly by it's high accuracy with multiple classes \n",
    "    * This means that we can be having a data leakage. If you can point out what is happening in the comments or if you think it's a normal result leave the comment below \n",
    "    * Actually i personally believe that by oversampling we are actually overfiting our model, making it falsely having greater precision, mainly because the training data and the test data share, by the overfitting, the same data, making the model highly specific from the data that we gave it but should perform worst in new data when showed."
   ]
  },
  {
   "cell_type": "markdown",
   "id": "4a4bff86",
   "metadata": {
    "papermill": {
     "duration": 0.070107,
     "end_time": "2021-09-18T09:49:09.449930",
     "exception": false,
     "start_time": "2021-09-18T09:49:09.379823",
     "status": "completed"
    },
    "tags": []
   },
   "source": [
    "# What if we classified as good or bad ?\n",
    "* We are going to put any comment with an 4+ review as a good comment and else a bad comment\n",
    "* We can see by the model below that the class that had the biggest mistakes is the 4 to 5 and 5 to 4 predictions what will happen if we join this both classes ?\n",
    "* Will we have a better result ?"
   ]
  },
  {
   "cell_type": "code",
   "execution_count": 34,
   "id": "379d0731",
   "metadata": {
    "execution": {
     "iopub.execute_input": "2021-09-18T09:49:09.594061Z",
     "iopub.status.busy": "2021-09-18T09:49:09.593049Z",
     "iopub.status.idle": "2021-09-18T09:49:09.602814Z",
     "shell.execute_reply": "2021-09-18T09:49:09.603336Z",
     "shell.execute_reply.started": "2021-09-18T09:22:26.892363Z"
    },
    "papermill": {
     "duration": 0.083273,
     "end_time": "2021-09-18T09:49:09.603521",
     "exception": false,
     "start_time": "2021-09-18T09:49:09.520248",
     "status": "completed"
    },
    "tags": []
   },
   "outputs": [],
   "source": [
    "y[y<4] = 0 #setting to be bad 1,2,3\n",
    "y[y>3] = 1 # setting to be good 4 and 5 "
   ]
  },
  {
   "cell_type": "markdown",
   "id": "a6f4cd0a",
   "metadata": {
    "papermill": {
     "duration": 0.07237,
     "end_time": "2021-09-18T09:49:09.748352",
     "exception": false,
     "start_time": "2021-09-18T09:49:09.675982",
     "status": "completed"
    },
    "tags": []
   },
   "source": [
    "is the data balanced or close to it ?"
   ]
  },
  {
   "cell_type": "code",
   "execution_count": 35,
   "id": "dd55dd26",
   "metadata": {
    "execution": {
     "iopub.execute_input": "2021-09-18T09:49:09.893876Z",
     "iopub.status.busy": "2021-09-18T09:49:09.892879Z",
     "iopub.status.idle": "2021-09-18T09:49:09.904648Z",
     "shell.execute_reply": "2021-09-18T09:49:09.905091Z",
     "shell.execute_reply.started": "2021-09-18T09:22:26.907533Z"
    },
    "papermill": {
     "duration": 0.085165,
     "end_time": "2021-09-18T09:49:09.905263",
     "exception": false,
     "start_time": "2021-09-18T09:49:09.820098",
     "status": "completed"
    },
    "tags": []
   },
   "outputs": [
    {
     "name": "stdout",
     "output_type": "stream",
     "text": [
      "The percentage of good comments is 0.6389960002874046\n",
      "The percentaage of bad comments is 0.36100399971259545\n"
     ]
    }
   ],
   "source": [
    "perc = list(y).count(1)/len(y)\n",
    "print(f'The percentage of good comments is {perc}')\n",
    "print(f'The percentaage of bad comments is {1-perc}')"
   ]
  },
  {
   "cell_type": "markdown",
   "id": "bc061550",
   "metadata": {
    "papermill": {
     "duration": 0.069777,
     "end_time": "2021-09-18T09:49:10.045106",
     "exception": false,
     "start_time": "2021-09-18T09:49:09.975329",
     "status": "completed"
    },
    "tags": []
   },
   "source": [
    "i believe is balanced the difference is not that huge"
   ]
  },
  {
   "cell_type": "code",
   "execution_count": 36,
   "id": "220cb474",
   "metadata": {
    "execution": {
     "iopub.execute_input": "2021-09-18T09:49:10.191686Z",
     "iopub.status.busy": "2021-09-18T09:49:10.190730Z",
     "iopub.status.idle": "2021-09-18T09:49:10.202463Z",
     "shell.execute_reply": "2021-09-18T09:49:10.202983Z",
     "shell.execute_reply.started": "2021-09-18T09:22:26.923257Z"
    },
    "papermill": {
     "duration": 0.086638,
     "end_time": "2021-09-18T09:49:10.203168",
     "exception": false,
     "start_time": "2021-09-18T09:49:10.116530",
     "status": "completed"
    },
    "tags": []
   },
   "outputs": [],
   "source": [
    "x_train,x_test,y_train,y_test = train_test_split(x,y)"
   ]
  },
  {
   "cell_type": "code",
   "execution_count": 37,
   "id": "d56daab4",
   "metadata": {
    "execution": {
     "iopub.execute_input": "2021-09-18T09:49:10.352868Z",
     "iopub.status.busy": "2021-09-18T09:49:10.352096Z",
     "iopub.status.idle": "2021-09-18T09:51:09.867569Z",
     "shell.execute_reply": "2021-09-18T09:51:09.867039Z",
     "shell.execute_reply.started": "2021-09-18T09:22:26.945938Z"
    },
    "papermill": {
     "duration": 119.592567,
     "end_time": "2021-09-18T09:51:09.867725",
     "exception": false,
     "start_time": "2021-09-18T09:49:10.275158",
     "status": "completed"
    },
    "tags": []
   },
   "outputs": [
    {
     "name": "stderr",
     "output_type": "stream",
     "text": [
      "[Parallel(n_jobs=5)]: Using backend LokyBackend with 5 concurrent workers.\n",
      "[Parallel(n_jobs=5)]: Done  40 tasks      | elapsed:    7.8s\n",
      "[Parallel(n_jobs=5)]: Done 100 out of 100 | elapsed:   18.7s finished\n",
      "[Parallel(n_jobs=5)]: Using backend ThreadingBackend with 5 concurrent workers.\n",
      "[Parallel(n_jobs=5)]: Done  40 tasks      | elapsed:    0.1s\n",
      "[Parallel(n_jobs=5)]: Done 100 out of 100 | elapsed:    0.2s finished\n",
      "[Parallel(n_jobs=5)]: Using backend LokyBackend with 5 concurrent workers.\n",
      "[Parallel(n_jobs=5)]: Done  40 tasks      | elapsed:    8.0s\n",
      "[Parallel(n_jobs=5)]: Done 100 out of 100 | elapsed:   18.4s finished\n",
      "[Parallel(n_jobs=5)]: Using backend ThreadingBackend with 5 concurrent workers.\n",
      "[Parallel(n_jobs=5)]: Done  40 tasks      | elapsed:    0.1s\n",
      "[Parallel(n_jobs=5)]: Done 100 out of 100 | elapsed:    0.1s finished\n",
      "[Parallel(n_jobs=5)]: Using backend LokyBackend with 5 concurrent workers.\n",
      "[Parallel(n_jobs=5)]: Done  40 tasks      | elapsed:    8.3s\n",
      "[Parallel(n_jobs=5)]: Done 100 out of 100 | elapsed:   19.0s finished\n",
      "[Parallel(n_jobs=5)]: Using backend ThreadingBackend with 5 concurrent workers.\n",
      "[Parallel(n_jobs=5)]: Done  40 tasks      | elapsed:    0.1s\n",
      "[Parallel(n_jobs=5)]: Done 100 out of 100 | elapsed:    0.2s finished\n",
      "[Parallel(n_jobs=5)]: Using backend LokyBackend with 5 concurrent workers.\n",
      "[Parallel(n_jobs=5)]: Done  40 tasks      | elapsed:    7.9s\n",
      "[Parallel(n_jobs=5)]: Done 100 out of 100 | elapsed:   19.0s finished\n",
      "[Parallel(n_jobs=5)]: Using backend ThreadingBackend with 5 concurrent workers.\n",
      "[Parallel(n_jobs=5)]: Done  40 tasks      | elapsed:    0.1s\n",
      "[Parallel(n_jobs=5)]: Done 100 out of 100 | elapsed:    0.2s finished\n",
      "[Parallel(n_jobs=5)]: Using backend LokyBackend with 5 concurrent workers.\n",
      "[Parallel(n_jobs=5)]: Done  40 tasks      | elapsed:    7.7s\n",
      "[Parallel(n_jobs=5)]: Done 100 out of 100 | elapsed:   18.6s finished\n",
      "[Parallel(n_jobs=5)]: Using backend ThreadingBackend with 5 concurrent workers.\n",
      "[Parallel(n_jobs=5)]: Done  40 tasks      | elapsed:    0.1s\n",
      "[Parallel(n_jobs=5)]: Done 100 out of 100 | elapsed:    0.2s finished\n"
     ]
    },
    {
     "name": "stdout",
     "output_type": "stream",
     "text": [
      "Average score is 0.873315318892373\n"
     ]
    },
    {
     "name": "stderr",
     "output_type": "stream",
     "text": [
      "[Parallel(n_jobs=5)]: Using backend ThreadingBackend with 5 concurrent workers.\n",
      "[Parallel(n_jobs=5)]: Done  40 tasks      | elapsed:    9.8s\n",
      "[Parallel(n_jobs=5)]: Done 100 out of 100 | elapsed:   24.1s finished\n"
     ]
    },
    {
     "data": {
      "text/plain": [
       "RandomForestClassifier(n_jobs=5, verbose=1)"
      ]
     },
     "execution_count": 37,
     "metadata": {},
     "output_type": "execute_result"
    }
   ],
   "source": [
    "score = cross_val_score(rf_model,x_train,y_train,cv=5)\n",
    "print(f'Average score is {score.mean()}')\n",
    "rf_model.fit(x_train,y_train)"
   ]
  },
  {
   "cell_type": "code",
   "execution_count": 38,
   "id": "2405cf40",
   "metadata": {
    "execution": {
     "iopub.execute_input": "2021-09-18T09:51:10.028273Z",
     "iopub.status.busy": "2021-09-18T09:51:10.027479Z",
     "iopub.status.idle": "2021-09-18T09:51:10.335978Z",
     "shell.execute_reply": "2021-09-18T09:51:10.336505Z",
     "shell.execute_reply.started": "2021-09-18T09:24:34.144480Z"
    },
    "papermill": {
     "duration": 0.391043,
     "end_time": "2021-09-18T09:51:10.336695",
     "exception": false,
     "start_time": "2021-09-18T09:51:09.945652",
     "status": "completed"
    },
    "tags": []
   },
   "outputs": [
    {
     "name": "stderr",
     "output_type": "stream",
     "text": [
      "[Parallel(n_jobs=5)]: Using backend ThreadingBackend with 5 concurrent workers.\n",
      "[Parallel(n_jobs=5)]: Done  40 tasks      | elapsed:    0.1s\n",
      "[Parallel(n_jobs=5)]: Done 100 out of 100 | elapsed:    0.2s finished\n"
     ]
    }
   ],
   "source": [
    "y_pred = rf_model.predict(x_test)"
   ]
  },
  {
   "cell_type": "code",
   "execution_count": 39,
   "id": "9a79af7e",
   "metadata": {
    "execution": {
     "iopub.execute_input": "2021-09-18T09:51:10.559843Z",
     "iopub.status.busy": "2021-09-18T09:51:10.554079Z",
     "iopub.status.idle": "2021-09-18T09:51:10.577180Z",
     "shell.execute_reply": "2021-09-18T09:51:10.576677Z",
     "shell.execute_reply.started": "2021-09-18T09:24:34.464175Z"
    },
    "papermill": {
     "duration": 0.103789,
     "end_time": "2021-09-18T09:51:10.577321",
     "exception": false,
     "start_time": "2021-09-18T09:51:10.473532",
     "status": "completed"
    },
    "tags": []
   },
   "outputs": [
    {
     "name": "stdout",
     "output_type": "stream",
     "text": [
      "              precision    recall  f1-score   support\n",
      "\n",
      "           0       0.83      0.83      0.83      3787\n",
      "           1       0.90      0.90      0.90      6652\n",
      "\n",
      "    accuracy                           0.87     10439\n",
      "   macro avg       0.86      0.86      0.86     10439\n",
      "weighted avg       0.87      0.87      0.87     10439\n",
      "\n"
     ]
    }
   ],
   "source": [
    "print(classification_report(y_test,y_pred))"
   ]
  },
  {
   "cell_type": "code",
   "execution_count": 40,
   "id": "ef8f5eb0",
   "metadata": {
    "execution": {
     "iopub.execute_input": "2021-09-18T09:51:10.739300Z",
     "iopub.status.busy": "2021-09-18T09:51:10.738447Z",
     "iopub.status.idle": "2021-09-18T09:51:11.268078Z",
     "shell.execute_reply": "2021-09-18T09:51:11.268996Z",
     "shell.execute_reply.started": "2021-09-18T09:24:34.495157Z"
    },
    "papermill": {
     "duration": 0.614884,
     "end_time": "2021-09-18T09:51:11.269276",
     "exception": false,
     "start_time": "2021-09-18T09:51:10.654392",
     "status": "completed"
    },
    "tags": []
   },
   "outputs": [
    {
     "name": "stderr",
     "output_type": "stream",
     "text": [
      "[Parallel(n_jobs=5)]: Using backend ThreadingBackend with 5 concurrent workers.\n",
      "[Parallel(n_jobs=5)]: Done  40 tasks      | elapsed:    0.1s\n",
      "[Parallel(n_jobs=5)]: Done 100 out of 100 | elapsed:    0.2s finished\n"
     ]
    },
    {
     "data": {
      "text/plain": [
       "<sklearn.metrics._plot.confusion_matrix.ConfusionMatrixDisplay at 0x7f319cc3b290>"
      ]
     },
     "execution_count": 40,
     "metadata": {},
     "output_type": "execute_result"
    },
    {
     "data": {
      "image/png": "[encoded data removed]",
      "text/plain": [
       "<Figure size 432x288 with 2 Axes>"
      ]
     },
     "metadata": {
      "needs_background": "light"
     },
     "output_type": "display_data"
    }
   ],
   "source": [
    "plot_confusion_matrix(rf_model,x_test,y_test)"
   ]
  },
  {
   "cell_type": "markdown",
   "id": "38205e00",
   "metadata": {
    "papermill": {
     "duration": 0.079153,
     "end_time": "2021-09-18T09:51:11.432594",
     "exception": false,
     "start_time": "2021-09-18T09:51:11.353441",
     "status": "completed"
    },
    "tags": []
   },
   "source": [
    "# Conclusion - Final \n",
    "* What did we made it ?\n",
    "    * First we made an small analysis of the  data to see how the classes are organized \n",
    "    * Second we pre-processed the text data and shown the word cloud representation of the data \n",
    "    * Later we Oversampled the data so all the classes have the same amount in the training and testing data\n",
    "    * We saw the cross validation mean score for the dataset oversampled, not oversampled and showing our suspicious thoughts on the model when its oversampled.\n",
    "    * Then we worked on making the result data binary and simpler for a model to understand\n",
    "    * We got better results usng the binary classification than the multiple class, i think we need to disconsider the oversampled model mainly because the training data and the test data share data what is problematic.\n",
    "    \n",
    "**Thank you for reading the notebook if you enjoyed please leave a comment and give it an up on the notebook**"
   ]
  }
 ],
 "metadata": {
  "kernelspec": {
   "display_name": "Python 3",
   "language": "python",
   "name": "python3"
  },
  "language_info": {
   "codemirror_mode": {
    "name": "ipython",
    "version": 3
   },
   "file_extension": ".py",
   "mimetype": "text/x-python",
   "name": "python",
   "nbconvert_exporter": "python",
   "pygments_lexer": "ipython3",
   "version": "3.7.10"
  },
  "papermill": {
   "default_parameters": {},
   "duration": 1034.14324,
   "end_time": "2021-09-18T09:51:12.622940",
   "environment_variables": {},
   "exception": null,
   "input_path": "__notebook__.ipynb",
   "output_path": "__notebook__.ipynb",
   "parameters": {},
   "start_time": "2021-09-18T09:33:58.479700",
   "version": "2.3.3"
  }
 },
 "nbformat": 4,
 "nbformat_minor": 5
}
